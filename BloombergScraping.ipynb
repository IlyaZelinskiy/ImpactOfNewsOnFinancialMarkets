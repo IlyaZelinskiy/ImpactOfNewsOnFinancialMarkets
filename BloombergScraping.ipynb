{
 "cells": [
  {
   "cell_type": "code",
   "execution_count": 1,
   "id": "c4e48c3e",
   "metadata": {
    "scrolled": false
   },
   "outputs": [
    {
     "name": "stdout",
     "output_type": "stream",
     "text": [
      "Requirement already satisfied: selenium in /Applications/Anaconda/anaconda3/lib/python3.8/site-packages (3.141.0)\r\n",
      "Requirement already satisfied: urllib3 in /Applications/Anaconda/anaconda3/lib/python3.8/site-packages (from selenium) (1.26.4)\r\n"
     ]
    }
   ],
   "source": [
    "!pip install selenium"
   ]
  },
  {
   "cell_type": "code",
   "execution_count": 2,
   "id": "b2d80bbf",
   "metadata": {
    "scrolled": true
   },
   "outputs": [
    {
     "name": "stdout",
     "output_type": "stream",
     "text": [
      "Requirement already satisfied: google in /Applications/Anaconda/anaconda3/lib/python3.8/site-packages (3.0.0)\r\n",
      "Requirement already satisfied: beautifulsoup4 in /Applications/Anaconda/anaconda3/lib/python3.8/site-packages (from google) (4.9.3)\r\n",
      "Requirement already satisfied: soupsieve>1.2 in /Applications/Anaconda/anaconda3/lib/python3.8/site-packages (from beautifulsoup4->google) (2.2.1)\r\n"
     ]
    }
   ],
   "source": [
    "!pip install google"
   ]
  },
  {
   "cell_type": "code",
   "execution_count": 3,
   "id": "060dd2ed",
   "metadata": {},
   "outputs": [
    {
     "name": "stdout",
     "output_type": "stream",
     "text": [
      "usage: cp [-R [-H | -L | -P]] [-fi | -n] [-apvXc] source_file target_file\r\n",
      "       cp [-R [-H | -L | -P]] [-fi | -n] [-apvXc] source_file ... target_directory\r\n"
     ]
    }
   ],
   "source": [
    "!cp /Users/mac/chromedriver"
   ]
  },
  {
   "cell_type": "code",
   "execution_count": 4,
   "id": "7512dab4",
   "metadata": {},
   "outputs": [],
   "source": [
    "import sys"
   ]
  },
  {
   "cell_type": "code",
   "execution_count": 5,
   "id": "d34ca5ec",
   "metadata": {},
   "outputs": [],
   "source": [
    "sys.path.insert(0,'/Users/mac/chromedriver')"
   ]
  },
  {
   "cell_type": "code",
   "execution_count": 6,
   "id": "6be3033f",
   "metadata": {},
   "outputs": [],
   "source": [
    "from selenium import webdriver\n",
    "from selenium.webdriver.common.by import By\n",
    "from selenium.webdriver.support.ui import WebDriverWait\n",
    "from selenium.webdriver.support import expected_conditions as EC\n",
    "from selenium.webdriver.common.keys import Keys"
   ]
  },
  {
   "cell_type": "code",
   "execution_count": 7,
   "id": "6b2835cc",
   "metadata": {},
   "outputs": [],
   "source": [
    "import pandas as pd\n",
    "import numpy as np\n",
    "from bs4 import BeautifulSoup\n",
    "import string\n",
    "import time\n",
    "from datetime import datetime\n",
    "import re\n",
    "from json import loads"
   ]
  },
  {
   "cell_type": "code",
   "execution_count": 8,
   "id": "1fd014c4",
   "metadata": {},
   "outputs": [
    {
     "name": "stdout",
     "output_type": "stream",
     "text": [
      "Requirement already satisfied: fake-useragent in /Applications/Anaconda/anaconda3/lib/python3.8/site-packages (0.1.11)\r\n"
     ]
    }
   ],
   "source": [
    "!pip install fake-useragent"
   ]
  },
  {
   "cell_type": "code",
   "execution_count": 9,
   "id": "26a23806",
   "metadata": {},
   "outputs": [],
   "source": [
    "from fake_useragent import UserAgent\n",
    "pd.options.display.float_format = '{:.0f}'.format"
   ]
  },
  {
   "cell_type": "code",
   "execution_count": 10,
   "id": "88e47f30",
   "metadata": {},
   "outputs": [],
   "source": [
    "def loadChrome():\n",
    "  chrome_options = webdriver.ChromeOptions()\n",
    "  chrome_options.add_argument('--headless')\n",
    "  chrome_options.add_argument('--no-sandbox')\n",
    "  chrome_options.add_argument('--disable-dev-shm-usage')\n",
    "  ua = UserAgent()\n",
    "  user_agent = \"user-agent=\" + ua.random\n",
    "  print(\"User-agent:\", user_agent)\n",
    "  chrome_options.add_argument(user_agent)\n",
    "  browser = webdriver.Chrome('/Users/mac/chromedriver')\n",
    "  return browser\n"
   ]
  },
  {
   "cell_type": "code",
   "execution_count": 11,
   "id": "eff1d0b4",
   "metadata": {},
   "outputs": [],
   "source": [
    "try: \n",
    "    from googlesearch import search \n",
    "except ImportError:  \n",
    "    print(\"No module named 'google' found\") "
   ]
  },
  {
   "cell_type": "code",
   "execution_count": 12,
   "id": "07996ed0",
   "metadata": {},
   "outputs": [],
   "source": [
    "date = '2020-01-02' #or\n",
    "date2 = ['2020-02-01', '2020-02-02','2020-02-03', '2020-02-04', '2020-02-05','2020-02-06','2020-02-08','2020-02-09','2020-02-10','2020-02-11','2020-02-12','2020-02-13','2020-02-14','2020-02-15','2020-02-16','2020-02-17','2020-02-18','2020-02-19','2020-02-20','2020-02-21','2020-02-22','2020-02-23','2020-02-24','2020-02-25','2020-02-26','2020-02-27','2020-02-28'] "
   ]
  },
  {
   "cell_type": "code",
   "execution_count": 13,
   "id": "4cc1fc40",
   "metadata": {},
   "outputs": [
    {
     "name": "stdout",
     "output_type": "stream",
     "text": [
      "Получено ссылок: 100\n",
      "1: https://www.bloomberg.com/news/articles/2020-01-02/your-evening-briefing\n",
      "2: https://www.bloomberg.com/news/articles/2020-01-02/the-stephamics-global-economic-preview-for-2020\n",
      "3: https://www.bloomberg.com/news/articles/2020-01-02/embattled-tunisia-edges-closer-to-elusive-government\n",
      "4: https://www.bloomberg.com/news/articles/2020-01-02/johannesburg-drive-by-killings-highlight-pervasive-crime-problem\n",
      "5: https://www.bloomberg.com/news/articles/2020-01-02/flavored-vaping-products-barred-under-strict-fda-curbs\n",
      "6: https://www.bloomberg.com/news/articles/2020-01-02/privacy-fight-continues-in-california-dc-and-beyond\n",
      "7: https://www.bloomberg.com/news/articles/2020-01-02/julian-castro-drops-out-of-democratic-presidential-race\n",
      "8: https://www.bloomberg.com/news/articles/2020-01-02/watch-review-patek-philippe-aquanaut-travel-time-5164r\n",
      "9: https://www.bloomberg.com/news/articles/2020-01-02/china-temporarily-suspends-shanghai-london-stock-plan-reuters\n",
      "10: https://www.bloomberg.com/news/articles/2020-01-02/undoing-the-legacy-of-lead-poisoning-in-america\n",
      "11: https://www.bloomberg.com/news/articles/2020-01-02/singapore-private-home-prices-moderate-amid-apartment-glut\n",
      "12: https://www.bloomberg.com/news/articles/2020-01-02/egypt-warns-against-turkish-military-interference-in-libya\n",
      "13: https://www.bloomberg.com/news/articles/2020-01-02/u-k-election-result-reduces-companies-brexit-uncertainty\n",
      "14: https://www.bloomberg.com/news/articles/2020-01-02/razer-joins-singapore-digital-bank-race-targets-millennials\n",
      "15: https://www.bloomberg.com/news/articles/2020-01-02/cash-strapped-publisher-mcclatchy-skips-payment-to-pensioners\n",
      "16: https://www.bloomberg.com/news/articles/2020-01-02/australia-s-wildfire-crisis-key-numbers-behind-the-disaster\n",
      "17: https://www.bloomberg.com/news/articles/2020-01-02/nine-states-face-economic-contraction-most-since-2009-crisis\n",
      "18: https://www.bloomberg.com/news/articles/2020-01-02/insider-trading-prosecutions-just-got-easier-with-court-ruling\n",
      "19: https://www.bloomberg.com/news/articles/2020-01-02/turkish-parliament-authorizes-government-to-send-troops-to-libya\n",
      "20: https://www.bloomberg.com/news/articles/2020-01-02/lebanon-would-probe-ghosn-allegations-if-japan-sought-return\n",
      "21: https://www.bloomberg.com/news/articles/2020-01-02/philippine-stocks-buck-asia-rally-as-regulatory-risks-resurface\n",
      "22: https://www.bloomberg.com/news/articles/2020-01-02/impossible-foods-teases-big-news-for-las-vegas-reveal\n",
      "23: https://www.bloomberg.com/news/articles/2020-01-02/turkish-airlines-says-issue-with-cape-town-istanbul-flight\n",
      "24: https://www.bloomberg.com/news/articles/2020-01-02/moutai-s-2019-profit-to-climb-15-missing-expectations\n",
      "25: https://www.bloomberg.com/news/articles/2020-01-02/turkey-detains-pilots-probes-ghosn-flight-after-istanbul-stop\n",
      "26: https://www.bloomberg.com/news/articles/2020-01-02/florida-poised-to-surpass-new-york-in-congressional-seats\n",
      "27: https://www.bloomberg.com/news/articles/2020-01-02/u-k-manufacturing-output-contracts-as-new-orders-plunge\n",
      "28: https://www.bloomberg.com/news/articles/2020-01-02/amazon-threatened-to-fire-climate-activists-employee-group-says\n",
      "29: https://www.bloomberg.com/news/articles/2020-01-02/schumer-says-emails-show-need-for-impeachment-trial-testimony\n",
      "30: https://www.bloomberg.com/news/articles/2020-01-02/australia-wildfires-quickly-end-leader-s-post-election-honeymoon\n",
      "31: https://www.bloomberg.com/news/articles/2020-01-02/permian-pipeline-competition-heats-up-as-capacity-outruns-supply\n",
      "32: https://www.bloomberg.com/news/articles/2020-01-02/trade-war-latest-trump-2020-china-tariffs-election-polls\n",
      "33: https://www.bloomberg.com/news/articles/2020-01-02/turkey-s-parliament-set-to-approve-troop-deployment-in-libya\n",
      "34: https://www.bloomberg.com/news/articles/2020-01-02/golden-globes-will-serve-plant-based-meal-at-awards-ceremony\n",
      "35: https://www.bloomberg.com/news/articles/2020-01-02/dell-to-let-apple-users-control-iphones-from-their-laptop\n",
      "36: https://www.bloomberg.com/news/articles/2020-01-02/tullow-discovers-oil-in-guyana-but-less-than-company-expected\n",
      "37: https://www.bloomberg.com/news/articles/2020-01-02/india-stocks-rise-as-investors-turn-attention-to-fiscal-spending\n",
      "38: https://www.bloomberg.com/news/articles/2020-01-02/italy-s-government-could-collapse-six-different-ways-this-month\n",
      "39: https://www.bloomberg.com/news/articles/2020-01-02/carcinogen-in-heartburn-drug-may-build-during-storage-lab-finds\n",
      "40: https://www.bloomberg.com/news/articles/2020-01-02/illumina-and-pacific-biosciences-call-off-1-2-billion-deal\n",
      "41: https://www.bloomberg.com/news/articles/2020-01-02/austria-grabs-climate-lead-as-kurz-takes-power-with-greens\n",
      "42: https://www.bloomberg.com/news/articles/2020-01-02/hess-transcends-shale-carnage-as-fairy-tale-find-rallies-stock\n",
      "43: https://www.bloomberg.com/news/articles/2020-01-02/ja-solar-plans-947-million-cell-and-panel-production-plants\n",
      "44: https://www.bloomberg.com/news/articles/2020-01-02/china-copper-outlook-brightens-with-miners-likely-to-shine-most\n",
      "45: https://www.bloomberg.com/news/articles/2020-01-02/johnson-s-top-aide-seeks-weirdos-to-change-british-government\n",
      "46: https://www.bloomberg.com/news/articles/2020-01-02/drugmakers-hike-2020-medicine-prices-despite-u-s-lawmakers-ire\n",
      "47: https://www.bloomberg.com/news/articles/2020-01-02/tata-petitions-india-top-court-against-verdict-to-rehire-mistry\n",
      "48: https://www.bloomberg.com/news/articles/2020-01-02/as-threat-of-european-wine-looms-brazil-industry-seeks-aid\n",
      "49: https://www.bloomberg.com/news/articles/2020-01-02/india-demands-2-1-billion-telecom-dues-from-fertilizer-maker\n",
      "50: https://www.bloomberg.com/news/articles/2020-01-02/bitcoin-begins-year-negative-after-2019-s-eye-catching-surge\n",
      "51: https://www.bloomberg.com/news/articles/2020-01-02/pricey-suvs-powered-a-surprisingly-buoyant-u-s-auto-market\n",
      "52: https://www.bloomberg.com/news/articles/2020-01-02/google-shows-ai-can-spot-breast-cancer-better-than-doctors\n",
      "53: https://www.bloomberg.com/news/articles/2020-01-02/resolution-stocks-may-find-strong-2019-finish-tough-to-follow\n",
      "54: https://www.bloomberg.com/news/articles/2020-01-02/hong-kong-s-iconic-hsbc-lions-caught-in-protests-crosshairs\n",
      "55: https://www.bloomberg.com/news/articles/2020-01-02/cedi-drop-pushes-up-ghanaian-banks-hard-currency-loans-chart\n",
      "56: https://www.bloomberg.com/news/articles/2020-01-02/hillary-clinton-gets-role-at-queen-s-university-in-belfast\n",
      "57: https://www.bloomberg.com/news/articles/2020-01-02/taiwan-s-top-uniformed-military-officer-dies-in-helicopter-crash\n",
      "58: https://www.bloomberg.com/news/articles/2020-01-02/european-banks-dangle-payouts-as-pressure-to-boost-capital-eases\n",
      "59: https://www.bloomberg.com/news/articles/2020-01-02/sanders-raised-34-5-million-in-fourth-quarter-campaign-update\n",
      "60: https://www.bloomberg.com/news/articles/2020-01-02/swiss-firm-in-panama-papers-charged-in-transatlantic-stock-scam\n",
      "61: https://www.bloomberg.com/news/articles/2020-01-02/five-things-you-need-to-know-to-start-your-day\n",
      "62: https://www.bloomberg.com/news/articles/2020-01-02/mexico-minimum-wage-boost-could-hurt-economy-central-bank-says\n",
      "63: https://www.bloomberg.com/news/articles/2020-01-02/most-deadly-plane-accidents-in-2019-were-in-north-america\n",
      "64: https://www.bloomberg.com/news/articles/2020-01-02/pelosi-and-mcconnell-begin-2020-in-standoff-over-trump-trial\n",
      "65: https://www.bloomberg.com/news/articles/2020-01-02/climate-risk-takes-center-stage-for-europe-s-newest-government\n",
      "66: https://www.bloomberg.com/news/articles/2020-01-02/hong-kong-bourse-discusses-second-listing-with-trip-com-netease\n",
      "67: https://www.bloomberg.com/news/articles/2020-01-02/bet-on-drops-in-stretched-tech-stocks-credit-etf-btig-says\n",
      "68: https://www.bloomberg.com/news/articles/2020-01-02/abe-plays-golf-as-japan-officials-stay-silent-over-ghosn-escape\n",
      "69: https://www.bloomberg.com/news/articles/2020-01-02/larsen-who-threw-only-perfect-world-series-game-dies-at-90\n",
      "70: https://www.bloomberg.com/news/articles/2020-01-02/shock-turns-to-dread-at-nissan-as-ghosn-readies-media-blitz\n",
      "71: https://www.bloomberg.com/news/articles/2020-01-02/five-things-you-need-to-know-to-start-your-day-k4xb4v65\n",
      "72: https://www.bloomberg.com/news/articles/2020-01-02/trump-had-better-shot-on-trade-at-rogue-germany-krugman-says\n",
      "73: https://www.bloomberg.com/news/articles/2020-01-02/amazon-and-google-to-hit-ces-with-digital-assistants-in-tow\n",
      "74: https://www.bloomberg.com/news/articles/2020-01-02/women-directed-11-of-major-films-in-2019-reaching-record-high\n",
      "75: https://www.bloomberg.com/news/articles/2020-01-02/tesla-rises-early-as-canaccord-lifts-target-on-2020-ev-growth\n",
      "76: https://www.bloomberg.com/news/articles/2020-01-02/private-equity-is-starting-2020-with-more-cash-than-ever-before\n",
      "77: https://www.bloomberg.com/news/articles/2020-01-02/singapore-s-economy-crawls-to-end-of-2019-amid-trade-headwinds\n",
      "78: https://www.bloomberg.com/news/articles/2020-01-02/apple-tops-300-for-first-time-as-shares-extend-record-high\n",
      "79: https://www.bloomberg.com/news/articles/2020-01-02/bae-s-10-billion-howitzer-project-improves-after-years-of-flaws\n",
      "80: https://www.bloomberg.com/news/articles/2020-01-02/roaring-start-to-the-20s-leaves-one-stock-market-nook-stranded\n",
      "81: https://www.bloomberg.com/news/articles/2020-01-02/chinese-leaders-new-year-s-visits-point-to-2020-pork-worries\n",
      "82: https://www.bloomberg.com/news/articles/2020-01-02/don-larsen-only-pitcher-perfect-in-world-series-dies-at-90\n",
      "83: https://www.bloomberg.com/news/articles/2020-01-02/oil-set-for-first-weekly-decline-in-five-before-inventory-data\n",
      "84: https://www.bloomberg.com/news/articles/2020-01-02/bigger-and-more-popular-a-decade-look-at-emerging-market-assets\n",
      "85: https://www.bloomberg.com/news/articles/2020-01-02/analyst-sees-judge-likely-to-block-t-mobile-s-sprint-merger\n",
      "86: https://www.bloomberg.com/news/articles/2020-01-02/asia-s-factories-end-2019-with-brighter-outlook-led-by-china\n",
      "87: https://www.bloomberg.com/news/articles/2020-01-02/cellnex-starts-2020-with-deal-to-buy-towers-from-morgan-stanley\n",
      "88: https://www.bloomberg.com/news/articles/2020-01-02/sanchez-wins-catalan-backing-needed-to-govern-in-spain-el-pais\n",
      "89: https://www.bloomberg.com/news/articles/2020-01-02/as-wildfires-rage-australia-s-never-been-so-hot-and-dry\n",
      "90: https://www.bloomberg.com/news/articles/2020-01-02/mike-mayo-keeps-the-hoodie-on-as-banks-turn-to-tech\n",
      "91: https://www.bloomberg.com/news/articles/2020-01-02/vw-to-sound-out-settlement-in-german-car-owners-mass-lawsuit\n",
      "92: https://www.bloomberg.com/news/articles/2020-01-02/mexico-s-rush-to-add-oil-wells-falters-hobbling-needed-growth\n",
      "93: https://www.bloomberg.com/news/articles/2020-01-02/top-bond-fund-manager-braces-for-em-sovereign-defaults-in-2020\n",
      "94: https://www.bloomberg.com/news/articles/2020-01-02/u-s-warns-argentina-that-leftist-allies-threaten-new-imf-deal\n",
      "95: https://www.bloomberg.com/news/articles/2020-01-02/airbus-gains-after-planemaker-s-late-dash-to-meet-2019-target\n",
      "96: https://www.bloomberg.com/news/articles/2020-01-02/yen-kicks-off-2020-with-an-advance-as-treasury-yields-slide\n",
      "97: https://www.bloomberg.com/news/articles/2020-01-02/russia-s-oil-output-hits-post-soviet-record-despite-opec-deal\n",
      "98: https://www.bloomberg.com/news/articles/2020-01-02/brazil-s-huge-coffee-exports-could-bring-end-to-stunning-rally\n",
      "99: https://www.bloomberg.com/news/articles/2020-01-02/coal-india-s-2019-shipments-drop-for-first-time-in-six-years\n",
      "100: https://www.bloomberg.com/news/articles/2020-01-02/apple-strikes-new-deal-with-u-k-chipmaker-it-sidelined-in-2017\n"
     ]
    }
   ],
   "source": [
    "site = \"site:bloomberg.com/news/articles/\" + date + \"/*\"\n",
    "num_of_articles = 20000 \n",
    "delay = 5\n",
    "stop = 0  \n",
    "if stop == 0:\n",
    "  stop = None   \n",
    "links = []  \n",
    "for j in search(site, tld=\"com\", num = num_of_articles, stop = stop, pause = delay): \n",
    "  #print(j)\n",
    "  links.append(j) \n",
    "print(\"Получено ссылок:\", len(links))\n",
    "a = [print(str(index + 1) + \":\", link) for index, link in enumerate(links) if (link != None) and (link.strip() != '')]   "
   ]
  },
  {
   "cell_type": "code",
   "execution_count": 19,
   "id": "107b0068",
   "metadata": {},
   "outputs": [
    {
     "ename": "HTTPError",
     "evalue": "HTTP Error 429: Too Many Requests",
     "output_type": "error",
     "traceback": [
      "\u001b[0;31m---------------------------------------------------------------------------\u001b[0m",
      "\u001b[0;31mHTTPError\u001b[0m                                 Traceback (most recent call last)",
      "\u001b[0;32m<ipython-input-19-d5174dbd1b0f>\u001b[0m in \u001b[0;36m<module>\u001b[0;34m\u001b[0m\n\u001b[1;32m      7\u001b[0m       \u001b[0mstop\u001b[0m \u001b[0;34m=\u001b[0m \u001b[0;32mNone\u001b[0m\u001b[0;34m\u001b[0m\u001b[0;34m\u001b[0m\u001b[0m\n\u001b[1;32m      8\u001b[0m     \u001b[0mlinks\u001b[0m \u001b[0;34m=\u001b[0m \u001b[0;34m[\u001b[0m\u001b[0;34m]\u001b[0m\u001b[0;34m\u001b[0m\u001b[0;34m\u001b[0m\u001b[0m\n\u001b[0;32m----> 9\u001b[0;31m     \u001b[0;32mfor\u001b[0m \u001b[0mj\u001b[0m \u001b[0;32min\u001b[0m \u001b[0msearch\u001b[0m\u001b[0;34m(\u001b[0m\u001b[0msite\u001b[0m\u001b[0;34m,\u001b[0m \u001b[0mtld\u001b[0m\u001b[0;34m=\u001b[0m\u001b[0;34m\"com\"\u001b[0m\u001b[0;34m,\u001b[0m \u001b[0mnum\u001b[0m \u001b[0;34m=\u001b[0m \u001b[0mnum_of_articles\u001b[0m\u001b[0;34m,\u001b[0m \u001b[0mstop\u001b[0m \u001b[0;34m=\u001b[0m \u001b[0mstop\u001b[0m\u001b[0;34m,\u001b[0m \u001b[0mpause\u001b[0m \u001b[0;34m=\u001b[0m \u001b[0mdelay\u001b[0m\u001b[0;34m)\u001b[0m\u001b[0;34m:\u001b[0m\u001b[0;34m\u001b[0m\u001b[0;34m\u001b[0m\u001b[0m\n\u001b[0m\u001b[1;32m     10\u001b[0m       \u001b[0;31m#print(j)\u001b[0m\u001b[0;34m\u001b[0m\u001b[0;34m\u001b[0m\u001b[0;34m\u001b[0m\u001b[0m\n\u001b[1;32m     11\u001b[0m       \u001b[0mlinks\u001b[0m\u001b[0;34m.\u001b[0m\u001b[0mappend\u001b[0m\u001b[0;34m(\u001b[0m\u001b[0mj\u001b[0m\u001b[0;34m)\u001b[0m\u001b[0;34m\u001b[0m\u001b[0;34m\u001b[0m\u001b[0m\n",
      "\u001b[0;32m/Applications/Anaconda/anaconda3/lib/python3.8/site-packages/googlesearch/__init__.py\u001b[0m in \u001b[0;36msearch\u001b[0;34m(query, tld, lang, tbs, safe, num, start, stop, pause, country, extra_params, user_agent, verify_ssl)\u001b[0m\n\u001b[1;32m    303\u001b[0m \u001b[0;34m\u001b[0m\u001b[0m\n\u001b[1;32m    304\u001b[0m         \u001b[0;31m# Request the Google Search results page.\u001b[0m\u001b[0;34m\u001b[0m\u001b[0;34m\u001b[0m\u001b[0;34m\u001b[0m\u001b[0m\n\u001b[0;32m--> 305\u001b[0;31m         \u001b[0mhtml\u001b[0m \u001b[0;34m=\u001b[0m \u001b[0mget_page\u001b[0m\u001b[0;34m(\u001b[0m\u001b[0murl\u001b[0m\u001b[0;34m,\u001b[0m \u001b[0muser_agent\u001b[0m\u001b[0;34m,\u001b[0m \u001b[0mverify_ssl\u001b[0m\u001b[0;34m)\u001b[0m\u001b[0;34m\u001b[0m\u001b[0;34m\u001b[0m\u001b[0m\n\u001b[0m\u001b[1;32m    306\u001b[0m \u001b[0;34m\u001b[0m\u001b[0m\n\u001b[1;32m    307\u001b[0m         \u001b[0;31m# Parse the response and get every anchored URL.\u001b[0m\u001b[0;34m\u001b[0m\u001b[0;34m\u001b[0m\u001b[0;34m\u001b[0m\u001b[0m\n",
      "\u001b[0;32m/Applications/Anaconda/anaconda3/lib/python3.8/site-packages/googlesearch/__init__.py\u001b[0m in \u001b[0;36mget_page\u001b[0;34m(url, user_agent, verify_ssl)\u001b[0m\n\u001b[1;32m    172\u001b[0m     \u001b[0mcookie_jar\u001b[0m\u001b[0;34m.\u001b[0m\u001b[0madd_cookie_header\u001b[0m\u001b[0;34m(\u001b[0m\u001b[0mrequest\u001b[0m\u001b[0;34m)\u001b[0m\u001b[0;34m\u001b[0m\u001b[0;34m\u001b[0m\u001b[0m\n\u001b[1;32m    173\u001b[0m     \u001b[0;32mif\u001b[0m \u001b[0mverify_ssl\u001b[0m\u001b[0;34m:\u001b[0m\u001b[0;34m\u001b[0m\u001b[0;34m\u001b[0m\u001b[0m\n\u001b[0;32m--> 174\u001b[0;31m         \u001b[0mresponse\u001b[0m \u001b[0;34m=\u001b[0m \u001b[0murlopen\u001b[0m\u001b[0;34m(\u001b[0m\u001b[0mrequest\u001b[0m\u001b[0;34m)\u001b[0m\u001b[0;34m\u001b[0m\u001b[0;34m\u001b[0m\u001b[0m\n\u001b[0m\u001b[1;32m    175\u001b[0m     \u001b[0;32melse\u001b[0m\u001b[0;34m:\u001b[0m\u001b[0;34m\u001b[0m\u001b[0;34m\u001b[0m\u001b[0m\n\u001b[1;32m    176\u001b[0m         \u001b[0mcontext\u001b[0m \u001b[0;34m=\u001b[0m \u001b[0mssl\u001b[0m\u001b[0;34m.\u001b[0m\u001b[0m_create_unverified_context\u001b[0m\u001b[0;34m(\u001b[0m\u001b[0;34m)\u001b[0m\u001b[0;34m\u001b[0m\u001b[0;34m\u001b[0m\u001b[0m\n",
      "\u001b[0;32m/Applications/Anaconda/anaconda3/lib/python3.8/urllib/request.py\u001b[0m in \u001b[0;36murlopen\u001b[0;34m(url, data, timeout, cafile, capath, cadefault, context)\u001b[0m\n\u001b[1;32m    220\u001b[0m     \u001b[0;32melse\u001b[0m\u001b[0;34m:\u001b[0m\u001b[0;34m\u001b[0m\u001b[0;34m\u001b[0m\u001b[0m\n\u001b[1;32m    221\u001b[0m         \u001b[0mopener\u001b[0m \u001b[0;34m=\u001b[0m \u001b[0m_opener\u001b[0m\u001b[0;34m\u001b[0m\u001b[0;34m\u001b[0m\u001b[0m\n\u001b[0;32m--> 222\u001b[0;31m     \u001b[0;32mreturn\u001b[0m \u001b[0mopener\u001b[0m\u001b[0;34m.\u001b[0m\u001b[0mopen\u001b[0m\u001b[0;34m(\u001b[0m\u001b[0murl\u001b[0m\u001b[0;34m,\u001b[0m \u001b[0mdata\u001b[0m\u001b[0;34m,\u001b[0m \u001b[0mtimeout\u001b[0m\u001b[0;34m)\u001b[0m\u001b[0;34m\u001b[0m\u001b[0;34m\u001b[0m\u001b[0m\n\u001b[0m\u001b[1;32m    223\u001b[0m \u001b[0;34m\u001b[0m\u001b[0m\n\u001b[1;32m    224\u001b[0m \u001b[0;32mdef\u001b[0m \u001b[0minstall_opener\u001b[0m\u001b[0;34m(\u001b[0m\u001b[0mopener\u001b[0m\u001b[0;34m)\u001b[0m\u001b[0;34m:\u001b[0m\u001b[0;34m\u001b[0m\u001b[0;34m\u001b[0m\u001b[0m\n",
      "\u001b[0;32m/Applications/Anaconda/anaconda3/lib/python3.8/urllib/request.py\u001b[0m in \u001b[0;36mopen\u001b[0;34m(self, fullurl, data, timeout)\u001b[0m\n\u001b[1;32m    529\u001b[0m         \u001b[0;32mfor\u001b[0m \u001b[0mprocessor\u001b[0m \u001b[0;32min\u001b[0m \u001b[0mself\u001b[0m\u001b[0;34m.\u001b[0m\u001b[0mprocess_response\u001b[0m\u001b[0;34m.\u001b[0m\u001b[0mget\u001b[0m\u001b[0;34m(\u001b[0m\u001b[0mprotocol\u001b[0m\u001b[0;34m,\u001b[0m \u001b[0;34m[\u001b[0m\u001b[0;34m]\u001b[0m\u001b[0;34m)\u001b[0m\u001b[0;34m:\u001b[0m\u001b[0;34m\u001b[0m\u001b[0;34m\u001b[0m\u001b[0m\n\u001b[1;32m    530\u001b[0m             \u001b[0mmeth\u001b[0m \u001b[0;34m=\u001b[0m \u001b[0mgetattr\u001b[0m\u001b[0;34m(\u001b[0m\u001b[0mprocessor\u001b[0m\u001b[0;34m,\u001b[0m \u001b[0mmeth_name\u001b[0m\u001b[0;34m)\u001b[0m\u001b[0;34m\u001b[0m\u001b[0;34m\u001b[0m\u001b[0m\n\u001b[0;32m--> 531\u001b[0;31m             \u001b[0mresponse\u001b[0m \u001b[0;34m=\u001b[0m \u001b[0mmeth\u001b[0m\u001b[0;34m(\u001b[0m\u001b[0mreq\u001b[0m\u001b[0;34m,\u001b[0m \u001b[0mresponse\u001b[0m\u001b[0;34m)\u001b[0m\u001b[0;34m\u001b[0m\u001b[0;34m\u001b[0m\u001b[0m\n\u001b[0m\u001b[1;32m    532\u001b[0m \u001b[0;34m\u001b[0m\u001b[0m\n\u001b[1;32m    533\u001b[0m         \u001b[0;32mreturn\u001b[0m \u001b[0mresponse\u001b[0m\u001b[0;34m\u001b[0m\u001b[0;34m\u001b[0m\u001b[0m\n",
      "\u001b[0;32m/Applications/Anaconda/anaconda3/lib/python3.8/urllib/request.py\u001b[0m in \u001b[0;36mhttp_response\u001b[0;34m(self, request, response)\u001b[0m\n\u001b[1;32m    638\u001b[0m         \u001b[0;31m# request was successfully received, understood, and accepted.\u001b[0m\u001b[0;34m\u001b[0m\u001b[0;34m\u001b[0m\u001b[0;34m\u001b[0m\u001b[0m\n\u001b[1;32m    639\u001b[0m         \u001b[0;32mif\u001b[0m \u001b[0;32mnot\u001b[0m \u001b[0;34m(\u001b[0m\u001b[0;36m200\u001b[0m \u001b[0;34m<=\u001b[0m \u001b[0mcode\u001b[0m \u001b[0;34m<\u001b[0m \u001b[0;36m300\u001b[0m\u001b[0;34m)\u001b[0m\u001b[0;34m:\u001b[0m\u001b[0;34m\u001b[0m\u001b[0;34m\u001b[0m\u001b[0m\n\u001b[0;32m--> 640\u001b[0;31m             response = self.parent.error(\n\u001b[0m\u001b[1;32m    641\u001b[0m                 'http', request, response, code, msg, hdrs)\n\u001b[1;32m    642\u001b[0m \u001b[0;34m\u001b[0m\u001b[0m\n",
      "\u001b[0;32m/Applications/Anaconda/anaconda3/lib/python3.8/urllib/request.py\u001b[0m in \u001b[0;36merror\u001b[0;34m(self, proto, *args)\u001b[0m\n\u001b[1;32m    561\u001b[0m             \u001b[0mhttp_err\u001b[0m \u001b[0;34m=\u001b[0m \u001b[0;36m0\u001b[0m\u001b[0;34m\u001b[0m\u001b[0;34m\u001b[0m\u001b[0m\n\u001b[1;32m    562\u001b[0m         \u001b[0margs\u001b[0m \u001b[0;34m=\u001b[0m \u001b[0;34m(\u001b[0m\u001b[0mdict\u001b[0m\u001b[0;34m,\u001b[0m \u001b[0mproto\u001b[0m\u001b[0;34m,\u001b[0m \u001b[0mmeth_name\u001b[0m\u001b[0;34m)\u001b[0m \u001b[0;34m+\u001b[0m \u001b[0margs\u001b[0m\u001b[0;34m\u001b[0m\u001b[0;34m\u001b[0m\u001b[0m\n\u001b[0;32m--> 563\u001b[0;31m         \u001b[0mresult\u001b[0m \u001b[0;34m=\u001b[0m \u001b[0mself\u001b[0m\u001b[0;34m.\u001b[0m\u001b[0m_call_chain\u001b[0m\u001b[0;34m(\u001b[0m\u001b[0;34m*\u001b[0m\u001b[0margs\u001b[0m\u001b[0;34m)\u001b[0m\u001b[0;34m\u001b[0m\u001b[0;34m\u001b[0m\u001b[0m\n\u001b[0m\u001b[1;32m    564\u001b[0m         \u001b[0;32mif\u001b[0m \u001b[0mresult\u001b[0m\u001b[0;34m:\u001b[0m\u001b[0;34m\u001b[0m\u001b[0;34m\u001b[0m\u001b[0m\n\u001b[1;32m    565\u001b[0m             \u001b[0;32mreturn\u001b[0m \u001b[0mresult\u001b[0m\u001b[0;34m\u001b[0m\u001b[0;34m\u001b[0m\u001b[0m\n",
      "\u001b[0;32m/Applications/Anaconda/anaconda3/lib/python3.8/urllib/request.py\u001b[0m in \u001b[0;36m_call_chain\u001b[0;34m(self, chain, kind, meth_name, *args)\u001b[0m\n\u001b[1;32m    500\u001b[0m         \u001b[0;32mfor\u001b[0m \u001b[0mhandler\u001b[0m \u001b[0;32min\u001b[0m \u001b[0mhandlers\u001b[0m\u001b[0;34m:\u001b[0m\u001b[0;34m\u001b[0m\u001b[0;34m\u001b[0m\u001b[0m\n\u001b[1;32m    501\u001b[0m             \u001b[0mfunc\u001b[0m \u001b[0;34m=\u001b[0m \u001b[0mgetattr\u001b[0m\u001b[0;34m(\u001b[0m\u001b[0mhandler\u001b[0m\u001b[0;34m,\u001b[0m \u001b[0mmeth_name\u001b[0m\u001b[0;34m)\u001b[0m\u001b[0;34m\u001b[0m\u001b[0;34m\u001b[0m\u001b[0m\n\u001b[0;32m--> 502\u001b[0;31m             \u001b[0mresult\u001b[0m \u001b[0;34m=\u001b[0m \u001b[0mfunc\u001b[0m\u001b[0;34m(\u001b[0m\u001b[0;34m*\u001b[0m\u001b[0margs\u001b[0m\u001b[0;34m)\u001b[0m\u001b[0;34m\u001b[0m\u001b[0;34m\u001b[0m\u001b[0m\n\u001b[0m\u001b[1;32m    503\u001b[0m             \u001b[0;32mif\u001b[0m \u001b[0mresult\u001b[0m \u001b[0;32mis\u001b[0m \u001b[0;32mnot\u001b[0m \u001b[0;32mNone\u001b[0m\u001b[0;34m:\u001b[0m\u001b[0;34m\u001b[0m\u001b[0;34m\u001b[0m\u001b[0m\n\u001b[1;32m    504\u001b[0m                 \u001b[0;32mreturn\u001b[0m \u001b[0mresult\u001b[0m\u001b[0;34m\u001b[0m\u001b[0;34m\u001b[0m\u001b[0m\n",
      "\u001b[0;32m/Applications/Anaconda/anaconda3/lib/python3.8/urllib/request.py\u001b[0m in \u001b[0;36mhttp_error_302\u001b[0;34m(self, req, fp, code, msg, headers)\u001b[0m\n\u001b[1;32m    753\u001b[0m         \u001b[0mfp\u001b[0m\u001b[0;34m.\u001b[0m\u001b[0mclose\u001b[0m\u001b[0;34m(\u001b[0m\u001b[0;34m)\u001b[0m\u001b[0;34m\u001b[0m\u001b[0;34m\u001b[0m\u001b[0m\n\u001b[1;32m    754\u001b[0m \u001b[0;34m\u001b[0m\u001b[0m\n\u001b[0;32m--> 755\u001b[0;31m         \u001b[0;32mreturn\u001b[0m \u001b[0mself\u001b[0m\u001b[0;34m.\u001b[0m\u001b[0mparent\u001b[0m\u001b[0;34m.\u001b[0m\u001b[0mopen\u001b[0m\u001b[0;34m(\u001b[0m\u001b[0mnew\u001b[0m\u001b[0;34m,\u001b[0m \u001b[0mtimeout\u001b[0m\u001b[0;34m=\u001b[0m\u001b[0mreq\u001b[0m\u001b[0;34m.\u001b[0m\u001b[0mtimeout\u001b[0m\u001b[0;34m)\u001b[0m\u001b[0;34m\u001b[0m\u001b[0;34m\u001b[0m\u001b[0m\n\u001b[0m\u001b[1;32m    756\u001b[0m \u001b[0;34m\u001b[0m\u001b[0m\n\u001b[1;32m    757\u001b[0m     \u001b[0mhttp_error_301\u001b[0m \u001b[0;34m=\u001b[0m \u001b[0mhttp_error_303\u001b[0m \u001b[0;34m=\u001b[0m \u001b[0mhttp_error_307\u001b[0m \u001b[0;34m=\u001b[0m \u001b[0mhttp_error_302\u001b[0m\u001b[0;34m\u001b[0m\u001b[0;34m\u001b[0m\u001b[0m\n",
      "\u001b[0;32m/Applications/Anaconda/anaconda3/lib/python3.8/urllib/request.py\u001b[0m in \u001b[0;36mopen\u001b[0;34m(self, fullurl, data, timeout)\u001b[0m\n\u001b[1;32m    529\u001b[0m         \u001b[0;32mfor\u001b[0m \u001b[0mprocessor\u001b[0m \u001b[0;32min\u001b[0m \u001b[0mself\u001b[0m\u001b[0;34m.\u001b[0m\u001b[0mprocess_response\u001b[0m\u001b[0;34m.\u001b[0m\u001b[0mget\u001b[0m\u001b[0;34m(\u001b[0m\u001b[0mprotocol\u001b[0m\u001b[0;34m,\u001b[0m \u001b[0;34m[\u001b[0m\u001b[0;34m]\u001b[0m\u001b[0;34m)\u001b[0m\u001b[0;34m:\u001b[0m\u001b[0;34m\u001b[0m\u001b[0;34m\u001b[0m\u001b[0m\n\u001b[1;32m    530\u001b[0m             \u001b[0mmeth\u001b[0m \u001b[0;34m=\u001b[0m \u001b[0mgetattr\u001b[0m\u001b[0;34m(\u001b[0m\u001b[0mprocessor\u001b[0m\u001b[0;34m,\u001b[0m \u001b[0mmeth_name\u001b[0m\u001b[0;34m)\u001b[0m\u001b[0;34m\u001b[0m\u001b[0;34m\u001b[0m\u001b[0m\n\u001b[0;32m--> 531\u001b[0;31m             \u001b[0mresponse\u001b[0m \u001b[0;34m=\u001b[0m \u001b[0mmeth\u001b[0m\u001b[0;34m(\u001b[0m\u001b[0mreq\u001b[0m\u001b[0;34m,\u001b[0m \u001b[0mresponse\u001b[0m\u001b[0;34m)\u001b[0m\u001b[0;34m\u001b[0m\u001b[0;34m\u001b[0m\u001b[0m\n\u001b[0m\u001b[1;32m    532\u001b[0m \u001b[0;34m\u001b[0m\u001b[0m\n\u001b[1;32m    533\u001b[0m         \u001b[0;32mreturn\u001b[0m \u001b[0mresponse\u001b[0m\u001b[0;34m\u001b[0m\u001b[0;34m\u001b[0m\u001b[0m\n",
      "\u001b[0;32m/Applications/Anaconda/anaconda3/lib/python3.8/urllib/request.py\u001b[0m in \u001b[0;36mhttp_response\u001b[0;34m(self, request, response)\u001b[0m\n\u001b[1;32m    638\u001b[0m         \u001b[0;31m# request was successfully received, understood, and accepted.\u001b[0m\u001b[0;34m\u001b[0m\u001b[0;34m\u001b[0m\u001b[0;34m\u001b[0m\u001b[0m\n\u001b[1;32m    639\u001b[0m         \u001b[0;32mif\u001b[0m \u001b[0;32mnot\u001b[0m \u001b[0;34m(\u001b[0m\u001b[0;36m200\u001b[0m \u001b[0;34m<=\u001b[0m \u001b[0mcode\u001b[0m \u001b[0;34m<\u001b[0m \u001b[0;36m300\u001b[0m\u001b[0;34m)\u001b[0m\u001b[0;34m:\u001b[0m\u001b[0;34m\u001b[0m\u001b[0;34m\u001b[0m\u001b[0m\n\u001b[0;32m--> 640\u001b[0;31m             response = self.parent.error(\n\u001b[0m\u001b[1;32m    641\u001b[0m                 'http', request, response, code, msg, hdrs)\n\u001b[1;32m    642\u001b[0m \u001b[0;34m\u001b[0m\u001b[0m\n",
      "\u001b[0;32m/Applications/Anaconda/anaconda3/lib/python3.8/urllib/request.py\u001b[0m in \u001b[0;36merror\u001b[0;34m(self, proto, *args)\u001b[0m\n\u001b[1;32m    567\u001b[0m         \u001b[0;32mif\u001b[0m \u001b[0mhttp_err\u001b[0m\u001b[0;34m:\u001b[0m\u001b[0;34m\u001b[0m\u001b[0;34m\u001b[0m\u001b[0m\n\u001b[1;32m    568\u001b[0m             \u001b[0margs\u001b[0m \u001b[0;34m=\u001b[0m \u001b[0;34m(\u001b[0m\u001b[0mdict\u001b[0m\u001b[0;34m,\u001b[0m \u001b[0;34m'default'\u001b[0m\u001b[0;34m,\u001b[0m \u001b[0;34m'http_error_default'\u001b[0m\u001b[0;34m)\u001b[0m \u001b[0;34m+\u001b[0m \u001b[0morig_args\u001b[0m\u001b[0;34m\u001b[0m\u001b[0;34m\u001b[0m\u001b[0m\n\u001b[0;32m--> 569\u001b[0;31m             \u001b[0;32mreturn\u001b[0m \u001b[0mself\u001b[0m\u001b[0;34m.\u001b[0m\u001b[0m_call_chain\u001b[0m\u001b[0;34m(\u001b[0m\u001b[0;34m*\u001b[0m\u001b[0margs\u001b[0m\u001b[0;34m)\u001b[0m\u001b[0;34m\u001b[0m\u001b[0;34m\u001b[0m\u001b[0m\n\u001b[0m\u001b[1;32m    570\u001b[0m \u001b[0;34m\u001b[0m\u001b[0m\n\u001b[1;32m    571\u001b[0m \u001b[0;31m# XXX probably also want an abstract factory that knows when it makes\u001b[0m\u001b[0;34m\u001b[0m\u001b[0;34m\u001b[0m\u001b[0;34m\u001b[0m\u001b[0m\n",
      "\u001b[0;32m/Applications/Anaconda/anaconda3/lib/python3.8/urllib/request.py\u001b[0m in \u001b[0;36m_call_chain\u001b[0;34m(self, chain, kind, meth_name, *args)\u001b[0m\n\u001b[1;32m    500\u001b[0m         \u001b[0;32mfor\u001b[0m \u001b[0mhandler\u001b[0m \u001b[0;32min\u001b[0m \u001b[0mhandlers\u001b[0m\u001b[0;34m:\u001b[0m\u001b[0;34m\u001b[0m\u001b[0;34m\u001b[0m\u001b[0m\n\u001b[1;32m    501\u001b[0m             \u001b[0mfunc\u001b[0m \u001b[0;34m=\u001b[0m \u001b[0mgetattr\u001b[0m\u001b[0;34m(\u001b[0m\u001b[0mhandler\u001b[0m\u001b[0;34m,\u001b[0m \u001b[0mmeth_name\u001b[0m\u001b[0;34m)\u001b[0m\u001b[0;34m\u001b[0m\u001b[0;34m\u001b[0m\u001b[0m\n\u001b[0;32m--> 502\u001b[0;31m             \u001b[0mresult\u001b[0m \u001b[0;34m=\u001b[0m \u001b[0mfunc\u001b[0m\u001b[0;34m(\u001b[0m\u001b[0;34m*\u001b[0m\u001b[0margs\u001b[0m\u001b[0;34m)\u001b[0m\u001b[0;34m\u001b[0m\u001b[0;34m\u001b[0m\u001b[0m\n\u001b[0m\u001b[1;32m    503\u001b[0m             \u001b[0;32mif\u001b[0m \u001b[0mresult\u001b[0m \u001b[0;32mis\u001b[0m \u001b[0;32mnot\u001b[0m \u001b[0;32mNone\u001b[0m\u001b[0;34m:\u001b[0m\u001b[0;34m\u001b[0m\u001b[0;34m\u001b[0m\u001b[0m\n\u001b[1;32m    504\u001b[0m                 \u001b[0;32mreturn\u001b[0m \u001b[0mresult\u001b[0m\u001b[0;34m\u001b[0m\u001b[0;34m\u001b[0m\u001b[0m\n",
      "\u001b[0;32m/Applications/Anaconda/anaconda3/lib/python3.8/urllib/request.py\u001b[0m in \u001b[0;36mhttp_error_default\u001b[0;34m(self, req, fp, code, msg, hdrs)\u001b[0m\n\u001b[1;32m    647\u001b[0m \u001b[0;32mclass\u001b[0m \u001b[0mHTTPDefaultErrorHandler\u001b[0m\u001b[0;34m(\u001b[0m\u001b[0mBaseHandler\u001b[0m\u001b[0;34m)\u001b[0m\u001b[0;34m:\u001b[0m\u001b[0;34m\u001b[0m\u001b[0;34m\u001b[0m\u001b[0m\n\u001b[1;32m    648\u001b[0m     \u001b[0;32mdef\u001b[0m \u001b[0mhttp_error_default\u001b[0m\u001b[0;34m(\u001b[0m\u001b[0mself\u001b[0m\u001b[0;34m,\u001b[0m \u001b[0mreq\u001b[0m\u001b[0;34m,\u001b[0m \u001b[0mfp\u001b[0m\u001b[0;34m,\u001b[0m \u001b[0mcode\u001b[0m\u001b[0;34m,\u001b[0m \u001b[0mmsg\u001b[0m\u001b[0;34m,\u001b[0m \u001b[0mhdrs\u001b[0m\u001b[0;34m)\u001b[0m\u001b[0;34m:\u001b[0m\u001b[0;34m\u001b[0m\u001b[0;34m\u001b[0m\u001b[0m\n\u001b[0;32m--> 649\u001b[0;31m         \u001b[0;32mraise\u001b[0m \u001b[0mHTTPError\u001b[0m\u001b[0;34m(\u001b[0m\u001b[0mreq\u001b[0m\u001b[0;34m.\u001b[0m\u001b[0mfull_url\u001b[0m\u001b[0;34m,\u001b[0m \u001b[0mcode\u001b[0m\u001b[0;34m,\u001b[0m \u001b[0mmsg\u001b[0m\u001b[0;34m,\u001b[0m \u001b[0mhdrs\u001b[0m\u001b[0;34m,\u001b[0m \u001b[0mfp\u001b[0m\u001b[0;34m)\u001b[0m\u001b[0;34m\u001b[0m\u001b[0;34m\u001b[0m\u001b[0m\n\u001b[0m\u001b[1;32m    650\u001b[0m \u001b[0;34m\u001b[0m\u001b[0m\n\u001b[1;32m    651\u001b[0m \u001b[0;32mclass\u001b[0m \u001b[0mHTTPRedirectHandler\u001b[0m\u001b[0;34m(\u001b[0m\u001b[0mBaseHandler\u001b[0m\u001b[0;34m)\u001b[0m\u001b[0;34m:\u001b[0m\u001b[0;34m\u001b[0m\u001b[0;34m\u001b[0m\u001b[0m\n",
      "\u001b[0;31mHTTPError\u001b[0m: HTTP Error 429: Too Many Requests"
     ]
    }
   ],
   "source": [
    "for index in date2:\n",
    "    site = \"site:bloomberg.com/news/articles/\" + date + \"/*\"\n",
    "    num_of_articles = 20000 \n",
    "    delay = 5\n",
    "    stop = 0  \n",
    "    if stop == 0:\n",
    "      stop = None   \n",
    "    links = [] \n",
    "    links2 = []\n",
    "    for j in search(site, tld=\"com\", num = num_of_articles, stop = stop, pause = delay): \n",
    "      #print(j)\n",
    "      links.append(j)\n",
    "    for j in search(site, tld=\"com\", num = num_of_articles, stop = stop, pause = delay): \n",
    "        links2.append(j)\n",
    "    #time.sleep(20)\n",
    "    print(\"Получено ссылок:\", len(links))\n",
    "    a = [print(str(index + 1) + \":\", link) for index, link in enumerate(links) if (link != None) and (link.strip() != '')] "
   ]
  },
  {
   "cell_type": "code",
   "execution_count": null,
   "id": "b1f693c1",
   "metadata": {},
   "outputs": [],
   "source": [
    "#теперь парсим текст статей с помощью beautifulsoup"
   ]
  },
  {
   "cell_type": "code",
   "execution_count": 14,
   "id": "76644295",
   "metadata": {},
   "outputs": [],
   "source": [
    "def getGoogleResultPage(browser, query):\n",
    "  print(query)\n",
    "  browser.get('http://www.google.com/') \n",
    "  search = browser.find_element_by_name('q')\n",
    "  search.send_keys(query)\n",
    "  search.send_keys(Keys.RETURN)\n",
    "  #time.sleep(30) \n",
    "  return browser.page_source"
   ]
  },
  {
   "cell_type": "code",
   "execution_count": 15,
   "id": "1f1f6999",
   "metadata": {},
   "outputs": [],
   "source": [
    "from selenium import webdriver\n",
    "from selenium.webdriver.support.ui import Select"
   ]
  },
  {
   "cell_type": "code",
   "execution_count": 16,
   "id": "2186c903",
   "metadata": {
    "scrolled": false
   },
   "outputs": [
    {
     "name": "stdout",
     "output_type": "stream",
     "text": [
      "User-agent: user-agent=Mozilla/5.0 (Windows NT 6.2; WOW64) AppleWebKit/537.14 (KHTML, like Gecko) Chrome/24.0.1292.0 Safari/537.14\n"
     ]
    },
    {
     "ename": "NameError",
     "evalue": "name 'articles_date' is not defined",
     "output_type": "error",
     "traceback": [
      "\u001b[0;31m---------------------------------------------------------------------------\u001b[0m",
      "\u001b[0;31mNameError\u001b[0m                                 Traceback (most recent call last)",
      "\u001b[0;32m<ipython-input-16-7377603d36d7>\u001b[0m in \u001b[0;36m<module>\u001b[0;34m\u001b[0m\n\u001b[1;32m      1\u001b[0m \u001b[0mbrowser\u001b[0m \u001b[0;34m=\u001b[0m \u001b[0mloadChrome\u001b[0m\u001b[0;34m(\u001b[0m\u001b[0;34m)\u001b[0m\u001b[0;34m\u001b[0m\u001b[0;34m\u001b[0m\u001b[0m\n\u001b[0;32m----> 2\u001b[0;31m \u001b[0mquery\u001b[0m \u001b[0;34m=\u001b[0m \u001b[0;34m\"site:bloomberg.com/news/articles/\"\u001b[0m \u001b[0;34m+\u001b[0m \u001b[0marticles_date\u001b[0m \u001b[0;34m+\u001b[0m \u001b[0;34m\"/*\"\u001b[0m\u001b[0;34m\u001b[0m\u001b[0;34m\u001b[0m\u001b[0m\n\u001b[0m\u001b[1;32m      3\u001b[0m \u001b[0mhtml_source\u001b[0m \u001b[0;34m=\u001b[0m \u001b[0mgetGoogleResultPage\u001b[0m\u001b[0;34m(\u001b[0m\u001b[0mbrowser\u001b[0m\u001b[0;34m,\u001b[0m \u001b[0mquery\u001b[0m\u001b[0;34m)\u001b[0m\u001b[0;34m\u001b[0m\u001b[0;34m\u001b[0m\u001b[0m\n",
      "\u001b[0;31mNameError\u001b[0m: name 'articles_date' is not defined"
     ]
    }
   ],
   "source": [
    "browser = loadChrome()\n",
    "query = \"site:bloomberg.com/news/articles/\" + articles_date + \"/*\"\n",
    "html_source = getGoogleResultPage(browser, query)"
   ]
  },
  {
   "cell_type": "code",
   "execution_count": null,
   "id": "dc166f1d",
   "metadata": {},
   "outputs": [],
   "source": [
    "def getGoogleSearch(soap):\n",
    "  google_links = [entry for entry in soup.find_all(class_='g')]\n",
    "  data = []\n",
    "  for links in google_links:\n",
    "    header = links.find_all('h3')\n",
    "    link = links.find_all('a')\n",
    "    data.append([header[0].text, link[0]['href']])\n",
    "  return data\n"
   ]
  },
  {
   "cell_type": "code",
   "execution_count": null,
   "id": "8739a5a8",
   "metadata": {},
   "outputs": [],
   "source": [
    "def parseBloombergNewsPage(soup):\n",
    "  bloomberg_news = soup.find_all('div', {'class' : 'body-columns'})\n",
    "  text = \"\"\n",
    "  if (bloomberg_news != None and len(bloomberg_news) > 0):\n",
    "    paragraphs = bloomberg_news[0].find_all('p')\n",
    "    for paragraph in paragraphs:\n",
    "      text += \" \" + paragraph.text \n",
    "  return text.strip() "
   ]
  },
  {
   "cell_type": "code",
   "execution_count": null,
   "id": "bb2ca315",
   "metadata": {},
   "outputs": [],
   "source": [
    "def getWebPage(browser, url):\n",
    "  browser.get(url)\n",
    "  return browser.page_source"
   ]
  },
  {
   "cell_type": "code",
   "execution_count": 29,
   "id": "c1c23182",
   "metadata": {
    "scrolled": true
   },
   "outputs": [],
   "source": [
    "d = \"01.01.2020\"\n",
    "for i in links:\n",
    "    #time.sleep(10)\n",
    "    news = getWebPage(browser, i)\n",
    "    #time.sleep(10)\n",
    "    news_soup = BeautifulSoup(news, 'lxml')\n",
    "    #time.sleep(10)\n",
    "    text = parseBloombergNewsPage(news_soup)\n",
    "    #time.sleep(10)\n",
    "    f = open('bloom.txt', 'a')\n",
    "    f.write(d)\n",
    "    f.write('\\n')\n",
    "    f.write(text)\n",
    "    f.write('\\n')  \n",
    "    f.close()\n",
    "    #or\n",
    "    #for i in links2:\n",
    "    #time.sleep(10)\n",
    "    #news = getWebPage(browser, i)\n",
    "    #time.sleep(10)\n",
    "    #news_soup = BeautifulSoup(news, 'lxml')\n",
    "    #time.sleep(10)\n",
    "    #text = parseBloombergNewsPage(news_soup)\n",
    "    #time.sleep(10)\n",
    "    #f = open('bloom.txt', 'a')\n",
    "    #f.write('\\n')\n",
    "    #f.write(text)\n",
    "    #f.write('\\n')  \n",
    "    #f.close()\n",
    "    "
   ]
  }
 ],
 "metadata": {
  "kernelspec": {
   "display_name": "Python 3",
   "language": "python",
   "name": "python3"
  },
  "language_info": {
   "codemirror_mode": {
    "name": "ipython",
    "version": 3
   },
   "file_extension": ".py",
   "mimetype": "text/x-python",
   "name": "python",
   "nbconvert_exporter": "python",
   "pygments_lexer": "ipython3",
   "version": "3.8.8"
  }
 },
 "nbformat": 4,
 "nbformat_minor": 5
}
